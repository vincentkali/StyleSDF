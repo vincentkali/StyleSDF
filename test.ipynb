{
 "cells": [
  {
   "cell_type": "code",
   "execution_count": 1,
   "metadata": {},
   "outputs": [
    {
     "name": "stdout",
     "output_type": "stream",
     "text": [
      "[Warning] Fused window process have not been installed. Please refer to get_started.md for installation.\n",
      "Tutel has not been installed. To use Swin-MoE, please install Tutel; otherwise, just ignore this.\n"
     ]
    }
   ],
   "source": [
    "import json\n",
    "import numpy as np\n",
    "from  myService.myDataset import MyDataset\n",
    "from torch.utils.data import Dataset, DataLoader\n",
    "from myService.myUtils import my_collate\n",
    "import matplotlib.pyplot as plt\n",
    "import matplotlib.image as mpimg\n",
    "\n",
    "from myService.myModel import *\n",
    "from torchsummary import summary\n",
    "from swinModels.swin_transformer import SwinTransformer"
   ]
  },
  {
   "cell_type": "code",
   "execution_count": 7,
   "metadata": {},
   "outputs": [
    {
     "name": "stdout",
     "output_type": "stream",
     "text": [
      "PatchEmbed\n",
      "Parameter\n",
      "Dropout\n",
      "linspace\n",
      "i_layer: 0\n",
      "img_mask: torch.Size([1, 16, 16, 1])\n",
      "self.window_size: 8\n",
      "x.shape: torch.Size([1, 16, 16, 1])\n",
      "window_size: 8\n",
      "x.shape: torch.Size([1, 16, 16, 1])\n",
      "B: 1\n",
      "H: 16\n",
      "W: 16\n",
      "C: 1\n",
      "torch.Size([1, 2, 8, 2, 8, 1])\n",
      "torch.Size([1, 2, 2, 8, 8, 1])\n",
      "torch.Size([1, 2, 2, 8, 8, 1])\n",
      "torch.Size([4, 8, 8, 1])\n",
      "i_layer: 1\n",
      "i_layer: 2\n",
      "i_layer: 3\n"
     ]
    }
   ],
   "source": [
    "model = SwinTransformer(img_size=64, window_size=8)\n",
    "# print(model)\n",
    "# summary(model, (3, 64, 64), device=\"cpu\")"
   ]
  }
 ],
 "metadata": {
  "kernelspec": {
   "display_name": "Python 3",
   "language": "python",
   "name": "python3"
  },
  "language_info": {
   "codemirror_mode": {
    "name": "ipython",
    "version": 3
   },
   "file_extension": ".py",
   "mimetype": "text/x-python",
   "name": "python",
   "nbconvert_exporter": "python",
   "pygments_lexer": "ipython3",
   "version": "3.10.4 (tags/v3.10.4:9d38120, Mar 23 2022, 23:13:41) [MSC v.1929 64 bit (AMD64)]"
  },
  "orig_nbformat": 4,
  "vscode": {
   "interpreter": {
    "hash": "369f2c481f4da34e4445cda3fffd2e751bd1c4d706f27375911949ba6bb62e1c"
   }
  }
 },
 "nbformat": 4,
 "nbformat_minor": 2
}
